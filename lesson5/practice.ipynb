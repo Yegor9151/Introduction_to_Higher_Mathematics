{
 "cells": [
  {
   "cell_type": "markdown",
   "id": "a814dd08",
   "metadata": {},
   "source": [
    "# 1. Напишите код, моделирующий выпадение поля в рулетке (с учетом поля зеро)."
   ]
  },
  {
   "cell_type": "code",
   "execution_count": 1,
   "id": "c5c3bc70",
   "metadata": {},
   "outputs": [
    {
     "name": "stdout",
     "output_type": "stream",
     "text": [
      "time 1: 21\n",
      "time 2: 35\n",
      "time 3: 5\n",
      "time 4: 29\n",
      "time 5: 34\n"
     ]
    }
   ],
   "source": [
    "import random\n",
    "\n",
    "def spin(times=5):\n",
    "    for i in range(times):\n",
    "#         input()\n",
    "        print(f\"time {i+1}: {random.randint(0, 36)}\")\n",
    "\n",
    "spin()"
   ]
  },
  {
   "cell_type": "markdown",
   "id": "3c73c9e9",
   "metadata": {},
   "source": [
    "# 2.1 Напишите код, проверяющий любую из теорем сложения или умножения вероятности на примере рулетки или подбрасывания монетки."
   ]
  },
  {
   "cell_type": "code",
   "execution_count": 2,
   "id": "9a13d380",
   "metadata": {},
   "outputs": [
    {
     "name": "stdout",
     "output_type": "stream",
     "text": [
      "Несовместны: 1.0\n",
      "Независимы: 0.25\n",
      "Зависимы: 0.5\n"
     ]
    }
   ],
   "source": [
    "\"\"\"На примере монетки понятней будет\"\"\"\n",
    "\n",
    "A = 0.5\n",
    "B = 0.5\n",
    "\n",
    "p_incompatible = A + B\n",
    "p_independent = A * B\n",
    "p_dependent = A * (B / A)\n",
    "    \n",
    "print(\"Несовместны:\", p_incompatible)\n",
    "print(\"Независимы:\", p_independent)\n",
    "print(\"Зависимы:\", p_dependent)"
   ]
  },
  {
   "cell_type": "markdown",
   "id": "3ff2b474",
   "metadata": {},
   "source": [
    "# 2.2 Сгенерируйте десять выборок случайных чисел х0, …, х9. и постройте гистограмму распределения случайной суммы  +х0+ …+ х 9. "
   ]
  },
  {
   "cell_type": "code",
   "execution_count": 3,
   "id": "16b7cea4",
   "metadata": {},
   "outputs": [
    {
     "data": {
      "image/png": "[encoded data removed]",
      "text/plain": [
       "<Figure size 432x288 with 1 Axes>"
      ]
     },
     "metadata": {
      "needs_background": "light"
     },
     "output_type": "display_data"
    }
   ],
   "source": [
    "import numpy as np\n",
    "import matplotlib.pyplot as plt\n",
    "\n",
    "x = np.random.rand(10, 1000)\n",
    "x = x.sum(axis=0)\n",
    "plt.hist(x, bins=10)\n",
    "plt.show()"
   ]
  },
  {
   "cell_type": "markdown",
   "id": "4431bdbc",
   "metadata": {},
   "source": [
    "# 3.1 Дополните код Монте-Карло последовательности независимых испытаний расчетом соответствующих вероятностей (через биномиальное распределение) и сравните результаты."
   ]
  },
  {
   "cell_type": "code",
   "execution_count": 4,
   "id": "26c96d12",
   "metadata": {},
   "outputs": [],
   "source": [
    "def factorial(x):\n",
    "    res = 1\n",
    "    for i in range(2, x+1):\n",
    "        res *= i\n",
    "        \n",
    "    return res"
   ]
  },
  {
   "cell_type": "code",
   "execution_count": 5,
   "id": "7105e408",
   "metadata": {},
   "outputs": [
    {
     "name": "stdout",
     "output_type": "stream",
     "text": [
      "k=6, n=10, k/n=0.6, c=210.0, p=0.205078125\n"
     ]
    }
   ],
   "source": [
    "k, n = 0, 10\n",
    "\n",
    "x = 0\n",
    "for i in range(4):\n",
    "    x += np.random.randint(0, 2, n)\n",
    "\n",
    "for i in range(0, n):\n",
    "    if x[i] == 2:\n",
    "        k += 1\n",
    "        \n",
    "c = factorial(n) / (factorial(k) * factorial(n - k))\n",
    "p = c/2**n\n",
    "print(f\"k={k}, n={n}, k/n={k/n}, c={c}, p={p}\")"
   ]
  },
  {
   "cell_type": "markdown",
   "id": "8b7a242b",
   "metadata": {},
   "source": [
    "# 3.2 Повторите расчеты биномиальных коэффициентов и вероятностей k успехов в последовательности из n независимых испытаний, взяв другие значения n и k."
   ]
  },
  {
   "cell_type": "code",
   "execution_count": 6,
   "id": "c1e2f2c3",
   "metadata": {},
   "outputs": [
    {
     "name": "stdout",
     "output_type": "stream",
     "text": [
      "k=13, n=20, k/n=0.65, c=77520.0, p=0.0739288330078125\n"
     ]
    }
   ],
   "source": [
    "k, n = 0, 20\n",
    "\n",
    "x = 0\n",
    "for i in range(4):\n",
    "    x += np.random.randint(0, 2, n)\n",
    "\n",
    "for i in range(0, n):\n",
    "    if x[i] == 2:\n",
    "        k += 1\n",
    "        \n",
    "c = factorial(n) / (factorial(k) * factorial(n - k))\n",
    "p = c/2**n\n",
    "print(f\"k={k}, n={n}, k/n={k/n}, c={c}, p={p}\")"
   ]
  },
  {
   "cell_type": "markdown",
   "id": "1bf53b95",
   "metadata": {},
   "source": [
    "# 4. (не обязательно, но желательно) Из урока по комбинаторике повторите расчеты, сгенерировав возможные варианты перестановок для других значений n и k"
   ]
  },
  {
   "cell_type": "code",
   "execution_count": null,
   "id": "90f4f19a",
   "metadata": {},
   "outputs": [],
   "source": []
  },
  {
   "cell_type": "markdown",
   "id": "9772e3df",
   "metadata": {},
   "source": [
    "# 5. (не обязательно) Дополните код расчетом коэффициента корреляции x и y по формуле"
   ]
  },
  {
   "cell_type": "code",
   "execution_count": 7,
   "id": "7299ae0c",
   "metadata": {},
   "outputs": [
    {
     "name": "stdout",
     "output_type": "stream",
     "text": [
      "0.7528472833439501 0.1300675050709323\n",
      "0.752847283343951 0.13006750507093204\n",
      "Коеффициент корреляции: 2.907960348525182e+30\n"
     ]
    },
    {
     "data": {
      "image/png": "[encoded data removed]",
      "text/plain": [
       "<Figure size 432x288 with 1 Axes>"
      ]
     },
     "metadata": {
      "needs_background": "light"
     },
     "output_type": "display_data"
    }
   ],
   "source": [
    "n = 100\n",
    "r = 0.7\n",
    "\n",
    "x = np.random.rand(n)\n",
    "y = r * x + (1 - r)*np.random.rand(n)\n",
    "\n",
    "plt.plot(x, y, 'o')\n",
    "plt.xlabel('X')\n",
    "plt.ylabel('Y')\n",
    "plt.grid()\n",
    "\n",
    "a = (np.sum(x) * np.sum(y) - n*np.sum(x*y)) / (np.sum(x)*np.sum(x) - n*np.sum(x**2))\n",
    "b = (np.sum(y) - a*np.sum(x)) / n\n",
    "\n",
    "R = np.sum((x - x.mean()) * (y - y.mean())) / (np.sum(x - x.mean())**2 * np.sum(y - y.mean())**2)**0.5\n",
    "\n",
    "A = np.vstack([x, np.ones(len(x))]).T\n",
    "a1, b1 = np.linalg.lstsq(A, y, rcond=-1)[0]\n",
    "\n",
    "print(a, b)\n",
    "print(a1, b1)\n",
    "print(f\"Коеффициент корреляции: {R}\")\n",
    "\n",
    "plt.plot([0, 1], [b, a+b])\n",
    "plt.show()"
   ]
  },
  {
   "cell_type": "code",
   "execution_count": null,
   "id": "370902ee",
   "metadata": {},
   "outputs": [],
   "source": []
  }
 ],
 "metadata": {
  "kernelspec": {
   "display_name": "Python 3",
   "language": "python",
   "name": "python3"
  },
  "language_info": {
   "codemirror_mode": {
    "name": "ipython",
    "version": 3
   },
   "file_extension": ".py",
   "mimetype": "text/x-python",
   "name": "python",
   "nbconvert_exporter": "python",
   "pygments_lexer": "ipython3",
   "version": "3.8.8"
  }
 },
 "nbformat": 4,
 "nbformat_minor": 5
}
