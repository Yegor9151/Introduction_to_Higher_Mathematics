{
 "cells": [
  {
   "cell_type": "markdown",
   "id": "91ef5854",
   "metadata": {},
   "source": [
    "# 1.1 Вектор – это частный случай матрицы 1хN и Nх1. Повторите материал для векторов, уделяя особое внимание умножению A∙B."
   ]
  },
  {
   "cell_type": "markdown",
   "id": "7b20855b",
   "metadata": {},
   "source": [
    "$\n",
    "A = \\begin{bmatrix}\n",
    "7 & 8 & 5\n",
    "\\end{bmatrix}\n",
    "$\n",
    "\n",
    "$\n",
    "A^T = \\begin{bmatrix}\n",
    "7 \\\\ \n",
    "8 \\\\ \n",
    "5\n",
    "\\end{bmatrix}\n",
    "$"
   ]
  },
  {
   "cell_type": "markdown",
   "id": "323856bc",
   "metadata": {},
   "source": [
    "$A \\cdot A^T = \\begin{bmatrix}\n",
    "  & 7  & 8  & 5 \\\\\n",
    "7 & 49          \\\\\n",
    "8 &    & 64     \\\\\n",
    "5 &    &    & 25\n",
    "\\end{bmatrix}$"
   ]
  },
  {
   "cell_type": "markdown",
   "id": "35c52342",
   "metadata": {},
   "source": [
    "$A \\cdot B = 49 + 64 + 25 = 138$"
   ]
  },
  {
   "cell_type": "markdown",
   "id": "f9db98bf",
   "metadata": {},
   "source": [
    "\n",
    "# 1.2 Вычислите, по возможности не используя программирование: $(5E)^{-1}$ где Е – единичная матрица размера 5х5."
   ]
  },
  {
   "cell_type": "markdown",
   "id": "74536e01",
   "metadata": {},
   "source": [
    "$\n",
    "E = \\begin{bmatrix}\n",
    "1&0&0&0&0\\\\\n",
    "0&1&0&0&0\\\\\n",
    "0&0&1&0&0\\\\\n",
    "0&0&0&1&0\\\\\n",
    "0&0&0&0&1\n",
    "\\end{bmatrix}\n",
    "$"
   ]
  },
  {
   "cell_type": "markdown",
   "id": "f1ea5caf",
   "metadata": {},
   "source": [
    "$\n",
    "5E = \\begin{bmatrix}\n",
    "5&0&0&0&0\\\\\n",
    "0&5&0&0&0\\\\\n",
    "0&0&5&0&0\\\\\n",
    "0&0&0&5&0\\\\\n",
    "0&0&0&0&5\n",
    "\\end{bmatrix}\n",
    "$"
   ]
  },
  {
   "cell_type": "markdown",
   "id": "a9e953fc",
   "metadata": {},
   "source": [
    "$\n",
    "E / 5E = \\begin{bmatrix}\n",
    "1/5&0&0&0&0\\\\\n",
    "0&1/5&0&0&0\\\\\n",
    "0&0&1/5&0&0\\\\\n",
    "0&0&0&1/5&0\\\\\n",
    "0&0&0&0&1/5\n",
    "\\end{bmatrix}\n",
    "$"
   ]
  },
  {
   "cell_type": "markdown",
   "id": "71534a8e",
   "metadata": {},
   "source": [
    "$\n",
    "(5E)^{-1} = \\begin{bmatrix}\n",
    "0,2&0&0&0&0\\\\\n",
    "0&0,2&0&0&0\\\\\n",
    "0&0&0,2&0&0\\\\\n",
    "0&0&0&0,2&0\\\\\n",
    "0&0&0&0&0,2\n",
    "\\end{bmatrix}\n",
    "$"
   ]
  },
  {
   "cell_type": "markdown",
   "id": "9a3dde86",
   "metadata": {},
   "source": [
    "# 2 Вычислите определитель:\n",
    "   \n",
    "$\n",
    "A = \\begin{bmatrix}\n",
    "1 & 2 & 3\\\\\n",
    "4 & 0 & 6\\\\\n",
    "7 & 8 & 9\n",
    "\\end{bmatrix}\n",
    "$"
   ]
  },
  {
   "cell_type": "markdown",
   "id": "423cf2f5",
   "metadata": {},
   "source": [
    "$\n",
    "\\det{A} = 1\\begin{bmatrix}\n",
    "0 & 6\\\\\n",
    "8 & 9\n",
    "\\end{bmatrix} - 2\\begin{bmatrix}\n",
    "4 & 6\\\\\n",
    "7 & 9\n",
    "\\end{bmatrix} + 3\\begin{bmatrix}\n",
    "4 & 0\\\\\n",
    "7 & 8\n",
    "\\end{bmatrix}\n",
    "$"
   ]
  },
  {
   "cell_type": "markdown",
   "id": "d20a1621",
   "metadata": {},
   "source": [
    "$\\det{A} = -48 + 12 + 96 = 60$"
   ]
  },
  {
   "cell_type": "markdown",
   "id": "53bae25d",
   "metadata": {},
   "source": [
    "# 3.1 Вычислите матрицу, обратную данной:\n",
    "\n",
    "$\n",
    "A = \\begin{bmatrix}\n",
    "1 & 2 & 3\\\\\n",
    "4 & 0 & 6\\\\\n",
    "7 & 8 & 9\n",
    "\\end{bmatrix}\n",
    "$"
   ]
  },
  {
   "cell_type": "markdown",
   "id": "26c9cef6",
   "metadata": {},
   "source": [
    "$\n",
    "M = \\begin{bmatrix}\n",
    "-48 & -6  & 32\\\\\n",
    "-6  & -12 & -6\\\\\n",
    "12  & -6  & -8\n",
    "\\end{bmatrix}\n",
    "$"
   ]
  },
  {
   "cell_type": "markdown",
   "id": "3f7d1965",
   "metadata": {},
   "source": [
    "$\n",
    "A_* = \\begin{bmatrix}\n",
    "-48 & 6   & 32\\\\\n",
    "6   & -12 & 6\\\\\n",
    "12  & 6   & -8\n",
    "\\end{bmatrix}\n",
    "$"
   ]
  },
  {
   "cell_type": "markdown",
   "id": "37adfa93",
   "metadata": {},
   "source": [
    "$\n",
    "A_*^T = \\begin{bmatrix}\n",
    "-48 & 6   & 12\\\\\n",
    "6   & -12 & 6\\\\\n",
    "32  & 6   & -8\n",
    "\\end{bmatrix}\n",
    "$"
   ]
  },
  {
   "cell_type": "markdown",
   "id": "88239b94",
   "metadata": {},
   "source": [
    "$\n",
    "A^{-1} = A_*^T / \\det{A} = \\begin{bmatrix}\n",
    "-48& 6 & 12\\\\\n",
    " 6 &-12& 6\\\\\n",
    " 32& 6 &-8\n",
    "\\end{bmatrix} / 60\n",
    "$"
   ]
  },
  {
   "cell_type": "markdown",
   "id": "c7648c38",
   "metadata": {},
   "source": [
    "$\n",
    "A^{-1} = \\begin{bmatrix}\n",
    "-0,8   & 0,1& 0,2   \\\\\n",
    " 0,1   &-0,2& 0,1   \\\\\n",
    " 0,5(3)& 0,1&-0,1(3)\n",
    "\\end{bmatrix}\n",
    "$"
   ]
  },
  {
   "cell_type": "markdown",
   "id": "62391e7d",
   "metadata": {},
   "source": [
    "# 3.2 Приведите пример матрицы 4х4, ранг которой равен 1."
   ]
  },
  {
   "cell_type": "markdown",
   "id": "02abbcb4",
   "metadata": {},
   "source": [
    "$\n",
    "\\begin{bmatrix}\n",
    "1 & 1 & 1 & 1 \\\\\n",
    "1 & 1 & 1 & 1 \\\\\n",
    "1 & 1 & 1 & 1 \\\\\n",
    "1 & 1 & 1 & 1\n",
    "\\end{bmatrix}\n",
    "$"
   ]
  },
  {
   "cell_type": "code",
   "execution_count": 1,
   "id": "94507910",
   "metadata": {},
   "outputs": [
    {
     "data": {
      "text/plain": [
       "array([[1, 1, 1, 1],\n",
       "       [1, 1, 1, 1],\n",
       "       [1, 1, 1, 1],\n",
       "       [1, 1, 1, 1]], dtype=int8)"
      ]
     },
     "execution_count": 1,
     "metadata": {},
     "output_type": "execute_result"
    }
   ],
   "source": [
    "import numpy as np\n",
    "\n",
    "A = np.ones([4, 4], dtype=np.int8)\n",
    "A"
   ]
  },
  {
   "cell_type": "code",
   "execution_count": 2,
   "id": "aab9936c",
   "metadata": {},
   "outputs": [
    {
     "data": {
      "text/plain": [
       "0.0"
      ]
     },
     "execution_count": 2,
     "metadata": {},
     "output_type": "execute_result"
    }
   ],
   "source": [
    "np.linalg.det(A)"
   ]
  },
  {
   "cell_type": "code",
   "execution_count": 3,
   "id": "645ea9ae",
   "metadata": {},
   "outputs": [
    {
     "data": {
      "text/plain": [
       "1"
      ]
     },
     "execution_count": 3,
     "metadata": {},
     "output_type": "execute_result"
    }
   ],
   "source": [
    "np.linalg.matrix_rank(A)"
   ]
  },
  {
   "cell_type": "markdown",
   "id": "959c6f9c",
   "metadata": {},
   "source": [
    "# 4 Вычислите скалярное произведение двух векторов:  (1, 5)  и  (2, 8)"
   ]
  },
  {
   "cell_type": "markdown",
   "id": "2d308aa3",
   "metadata": {},
   "source": [
    "$A = \\begin{bmatrix}1 & 5\\end{bmatrix}$\n",
    "\n",
    "$B = \\begin{bmatrix}2 \\\\ 8\\end{bmatrix}$"
   ]
  },
  {
   "cell_type": "markdown",
   "id": "f6b108aa",
   "metadata": {},
   "source": [
    "$\n",
    "A \\cdot B = \\begin{bmatrix}\n",
    "  & 1 & 5 \\\\\n",
    "2 & 2\\\\\n",
    "8 &   & 40\n",
    "\\end{bmatrix}\n",
    "$"
   ]
  },
  {
   "cell_type": "markdown",
   "id": "cffc483e",
   "metadata": {},
   "source": [
    "$A \\cdot B = 42$"
   ]
  },
  {
   "cell_type": "markdown",
   "id": "b85d826a",
   "metadata": {},
   "source": [
    "# 5 (1, 5, 0), (2, 8, 7) и (7, 1.5, 3) Вычислите смешанное произведение трех векторов:"
   ]
  },
  {
   "cell_type": "markdown",
   "id": "745f6a41",
   "metadata": {},
   "source": [
    "$A = \\begin{bmatrix} 1 & 5 & 0 \\end{bmatrix}$\n",
    "\n",
    "$B = \\begin{bmatrix} 2 & 8 & 7 \\end{bmatrix}$\n",
    "\n",
    "$C = \\begin{bmatrix} 7 & 1,5 & 3 \\end{bmatrix}$"
   ]
  },
  {
   "cell_type": "markdown",
   "id": "0dcd30f7",
   "metadata": {},
   "source": [
    "$A X B = \\begin{bmatrix}\n",
    "5\\cdot7 - 0\\cdot8 & -(1\\cdot 7 - 2\\cdot0) & 1\\cdot8 - 2\\cdot5\n",
    "\\end{bmatrix}$"
   ]
  },
  {
   "cell_type": "markdown",
   "id": "adc4fbab",
   "metadata": {},
   "source": [
    "$A X B = \\begin{bmatrix}\n",
    "35 & -7 & -2 \n",
    "\\end{bmatrix}$"
   ]
  },
  {
   "cell_type": "markdown",
   "id": "d6c1bccc",
   "metadata": {},
   "source": [
    "$(AXB)\\cdot C = \\begin{bmatrix}\n",
    "   &35 & -7  &-2 \\\\\n",
    "7  &245\\\\\n",
    "1,5&   &-10,5\\\\\n",
    "3  &   &     &-6\n",
    "\\end{bmatrix}$"
   ]
  },
  {
   "cell_type": "markdown",
   "id": "ad26c731",
   "metadata": {},
   "source": [
    "$(A X B) \\cdot C = 228,5$"
   ]
  }
 ],
 "metadata": {
  "kernelspec": {
   "display_name": "Python 3",
   "language": "python",
   "name": "python3"
  },
  "language_info": {
   "codemirror_mode": {
    "name": "ipython",
    "version": 3
   },
   "file_extension": ".py",
   "mimetype": "text/x-python",
   "name": "python",
   "nbconvert_exporter": "python",
   "pygments_lexer": "ipython3",
   "version": "3.8.8"
  }
 },
 "nbformat": 4,
 "nbformat_minor": 5
}
