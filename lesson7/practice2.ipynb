{
 "cells": [
  {
   "cell_type": "markdown",
   "id": "e5cc9680",
   "metadata": {},
   "source": [
    "# 1. Решите линейную систему:\n",
    "\n",
    "# $\\begin{bmatrix}\n",
    "1 & 2 & 3\\\\\n",
    "4 & 0 & 6\\\\\n",
    "7 & 8 & 9\n",
    "\\end{bmatrix} \\cdot X = \\begin{bmatrix}\n",
    "12\\\\\n",
    "2\\\\\n",
    "1\n",
    "\\end{bmatrix}$"
   ]
  },
  {
   "cell_type": "markdown",
   "id": "da70bf18",
   "metadata": {},
   "source": [
    "$X = \\begin{bmatrix}\n",
    "12\\\\\n",
    "2\\\\\n",
    "1\n",
    "\\end{bmatrix} / \\begin{bmatrix}\n",
    "1 & 2 & 3\\\\\n",
    "4 & 0 & 6\\\\\n",
    "7 & 8 & 9\n",
    "\\end{bmatrix}$"
   ]
  },
  {
   "cell_type": "markdown",
   "id": "b2126783",
   "metadata": {},
   "source": [
    "$X = \\begin{bmatrix}-9.2 & 0.9 & 6.4(6)\\end{bmatrix}$"
   ]
  },
  {
   "cell_type": "code",
   "execution_count": 1,
   "id": "1bc46f83",
   "metadata": {},
   "outputs": [
    {
     "data": {
      "text/plain": [
       "array([-9.2       ,  0.9       ,  6.46666667])"
      ]
     },
     "execution_count": 1,
     "metadata": {},
     "output_type": "execute_result"
    }
   ],
   "source": [
    "import numpy as np\n",
    "\n",
    "a = np.array([[1, 2, 3],\n",
    "              [4, 0, 6],\n",
    "              [7, 8, 9]])\n",
    "\n",
    "b = np.array([12, 2, 1])\n",
    "\n",
    "x = np.linalg.solve(a, b)\n",
    "x"
   ]
  },
  {
   "cell_type": "markdown",
   "id": "c8f39baf",
   "metadata": {},
   "source": [
    "# 2. Найдите псевдорешение:\n",
    "\n",
    "# $\\begin{cases}\n",
    "x + 2y – z = 1\\\\\n",
    "3x – 4y = 7\\\\\n",
    "8x – 5y + 2z = 12\\\\\n",
    "2x – 5z = 7\\\\\n",
    "11x +4y – 7z = 15\n",
    "\\end{cases}$"
   ]
  },
  {
   "cell_type": "markdown",
   "id": "b3e898d9",
   "metadata": {},
   "source": [
    "$\\begin{bmatrix}\n",
    "1  &  2 & -1 \\\\\n",
    "3  & -4 &  0 \\\\\n",
    "8  & -5 &  2 \\\\\n",
    "2  &  0 & -5 \\\\\n",
    "11 &  4 & -7\n",
    "\\end{bmatrix} \\cdot X = \\begin{bmatrix}\n",
    "1 \\\\\n",
    "7 \\\\\n",
    "12 \\\\\n",
    "7 \\\\\n",
    "15 \\\\\n",
    "\\end{bmatrix}$"
   ]
  },
  {
   "cell_type": "code",
   "execution_count": 2,
   "id": "ed12264b",
   "metadata": {
    "scrolled": true
   },
   "outputs": [
    {
     "data": {
      "text/plain": [
       "(array([ 1.13919353, -0.90498444, -0.9009803 ]),\n",
       " array([0.71523211]),\n",
       " 3,\n",
       " array([15.2817306 ,  9.59852942,  3.65197794]))"
      ]
     },
     "execution_count": 2,
     "metadata": {},
     "output_type": "execute_result"
    }
   ],
   "source": [
    "a = np.array([[1,  2, -1],\n",
    "              [3, -4,  0],\n",
    "              [8, -5,  2],\n",
    "              [2,  0, -5],\n",
    "              [11, 4, -7]])\n",
    "\n",
    "b = np.array([1, 7, 12, 7, 15])\n",
    "\n",
    "np.linalg.lstsq(a, b, rcond=-1)"
   ]
  },
  {
   "cell_type": "markdown",
   "id": "634fd2f6",
   "metadata": {},
   "source": [
    "# 3. Сколько решений имеет линейная система:\n",
    "\n",
    "# $\\begin{bmatrix}\n",
    "1 & 2 & 3\\\\\n",
    "4 & 5 & 6\\\\\n",
    "7 & 8 & 9\n",
    "\\end{bmatrix} \\cdot X = \\begin{bmatrix}\n",
    "12\\\\\n",
    "2\\\\\n",
    "1\n",
    "\\end{bmatrix}$"
   ]
  },
  {
   "cell_type": "code",
   "execution_count": 3,
   "id": "c9f00272",
   "metadata": {},
   "outputs": [
    {
     "data": {
      "text/plain": [
       "(2, 3)"
      ]
     },
     "execution_count": 3,
     "metadata": {},
     "output_type": "execute_result"
    }
   ],
   "source": [
    "A = np.array([[1, 2, 3],\n",
    "              [4, 5, 6],\n",
    "              [7, 8, 9]])\n",
    "\n",
    "B = np.array([[12, 2, 1]])\n",
    "\n",
    "C = np.concatenate((A, B.T), axis=1)\n",
    "\n",
    "np.linalg.matrix_rank(A), np.linalg.matrix_rank(C) "
   ]
  },
  {
   "cell_type": "markdown",
   "id": "c37cc6fc",
   "metadata": {},
   "source": [
    "__Ответ:__ система не имеет решений"
   ]
  },
  {
   "cell_type": "markdown",
   "id": "045a5721",
   "metadata": {},
   "source": [
    "# Если ноль – то измените вектор правой части так, чтобы система стала совместной, и решите ее."
   ]
  },
  {
   "cell_type": "markdown",
   "id": "7a845d9e",
   "metadata": {},
   "source": [
    "# $\\begin{bmatrix}\n",
    "1 & 2 & 3\\\\\n",
    "4 & 5 & 6\\\\\n",
    "7 & 8 & 9\n",
    "\\end{bmatrix} \\cdot X = \\begin{bmatrix}\n",
    "3\\\\\n",
    "5\\\\\n",
    "7\n",
    "\\end{bmatrix}$"
   ]
  },
  {
   "cell_type": "code",
   "execution_count": 4,
   "id": "10d2247a",
   "metadata": {},
   "outputs": [
    {
     "data": {
      "text/plain": [
       "(2, 2)"
      ]
     },
     "execution_count": 4,
     "metadata": {},
     "output_type": "execute_result"
    }
   ],
   "source": [
    "A = np.array([[1, 2, 3],\n",
    "              [4, 5, 6],\n",
    "              [7, 8, 9]])\n",
    "\n",
    "B = np.array([[3, 5, 7]])\n",
    "\n",
    "C = np.concatenate((A, B.T), axis=1)\n",
    "\n",
    "np.linalg.matrix_rank(A), np.linalg.matrix_rank(C) "
   ]
  },
  {
   "cell_type": "markdown",
   "id": "2632c353",
   "metadata": {},
   "source": [
    "$X =\\begin{bmatrix}\n",
    "3\\\\\n",
    "5\\\\\n",
    "7\n",
    "\\end{bmatrix} / \\begin{bmatrix}\n",
    "1 & 2 & 3\\\\\n",
    "4 & 5 & 6\\\\\n",
    "7 & 8 & 9\n",
    "\\end{bmatrix}$"
   ]
  },
  {
   "cell_type": "code",
   "execution_count": 5,
   "id": "299efb7a",
   "metadata": {},
   "outputs": [
    {
     "data": {
      "text/plain": [
       "(array([-0.61111111,  0.22222222,  1.05555556]),\n",
       " array([], dtype=float64),\n",
       " 2,\n",
       " array([1.68481034e+01, 1.06836951e+00, 3.33475287e-16]))"
      ]
     },
     "execution_count": 5,
     "metadata": {},
     "output_type": "execute_result"
    }
   ],
   "source": [
    "np.linalg.lstsq(A, B[0], rcond=-1)"
   ]
  },
  {
   "cell_type": "markdown",
   "id": "3e253f94",
   "metadata": {},
   "source": [
    "# 4. Вычислите LU-разложение матрицы:\n",
    "\n",
    "# $\\begin{bmatrix}\n",
    "1 & 2  & 3  \\\\\n",
    "2 & 16 & 21 \\\\\n",
    "4 & 28 & 73\n",
    "\\end{bmatrix}$"
   ]
  },
  {
   "cell_type": "code",
   "execution_count": 6,
   "id": "00021141",
   "metadata": {},
   "outputs": [
    {
     "name": "stdout",
     "output_type": "stream",
     "text": [
      "[[0. 1. 0.]\n",
      " [0. 0. 1.]\n",
      " [1. 0. 0.]]\n",
      "[[ 1.    0.    0.  ]\n",
      " [ 0.25  1.    0.  ]\n",
      " [ 0.5  -0.4   1.  ]]\n",
      "[[  4.    28.    73.  ]\n",
      " [  0.    -5.   -15.25]\n",
      " [  0.     0.   -21.6 ]]\n"
     ]
    }
   ],
   "source": [
    "from scipy.linalg import lu\n",
    "\n",
    "A = np.array([[1,  2,  3], \n",
    "              [2, 16, 21],\n",
    "              [4, 28, 73]])\n",
    "\n",
    "P, L, U = lu(A)\n",
    "\n",
    "print(P)\n",
    "print(L)\n",
    "print(U)"
   ]
  },
  {
   "cell_type": "code",
   "execution_count": 7,
   "id": "185e3418",
   "metadata": {},
   "outputs": [
    {
     "data": {
      "text/plain": [
       "array([[ 2., 16., 21.],\n",
       "       [ 4., 28., 73.],\n",
       "       [ 1.,  2.,  3.]])"
      ]
     },
     "execution_count": 7,
     "metadata": {},
     "output_type": "execute_result"
    }
   ],
   "source": [
    "P.dot(A)"
   ]
  },
  {
   "cell_type": "code",
   "execution_count": 8,
   "id": "6f5fc9c5",
   "metadata": {},
   "outputs": [
    {
     "data": {
      "text/plain": [
       "array([[ 4., 28., 73.],\n",
       "       [ 1.,  2.,  3.],\n",
       "       [ 2., 16., 21.]])"
      ]
     },
     "execution_count": 8,
     "metadata": {},
     "output_type": "execute_result"
    }
   ],
   "source": [
    "L.dot(U)"
   ]
  },
  {
   "cell_type": "markdown",
   "id": "ae82ed4a",
   "metadata": {},
   "source": [
    "# 5. Найдите нормальное псевдорешение недоопределенной системы:\n",
    "\n",
    "# $\\begin{cases}\n",
    "x + 2y - z = 1\\\\\n",
    "8x - 5y + 2z = 12\n",
    "\\end{cases}$"
   ]
  },
  {
   "cell_type": "markdown",
   "id": "c2a469a9",
   "metadata": {},
   "source": [
    "$\\begin{cases}\n",
    "z = x + 2y - 1\\\\\n",
    "8x - 5y + 2(x + 2y - 1) = 12\n",
    "\\end{cases}$"
   ]
  },
  {
   "cell_type": "markdown",
   "id": "a34b4a4a",
   "metadata": {},
   "source": [
    "$\\begin{cases}\n",
    "z = x + 2y - 1\\\\\n",
    "y = 10x - 14\n",
    "\\end{cases}$"
   ]
  },
  {
   "cell_type": "markdown",
   "id": "80ccb0d0",
   "metadata": {},
   "source": [
    "$\\begin{cases}\n",
    "z = x + 2(10x - 14) - 1\\\\\n",
    "y = 10x - 14\n",
    "\\end{cases}$"
   ]
  },
  {
   "cell_type": "markdown",
   "id": "4ae50a4f",
   "metadata": {},
   "source": [
    "$\\begin{cases}\n",
    "z = 21x - 25\\\\\n",
    "y = 10x - 14\n",
    "\\end{cases}$"
   ]
  },
  {
   "cell_type": "markdown",
   "id": "1f1bdb21",
   "metadata": {},
   "source": [
    "# Для этого определите функцию Q(x,y,z), равную норме решения, и найдите ее минимум. "
   ]
  },
  {
   "cell_type": "code",
   "execution_count": 9,
   "id": "09d83b7e",
   "metadata": {},
   "outputs": [
    {
     "name": "stdout",
     "output_type": "stream",
     "text": [
      "min:\n",
      "x = 1.22\n",
      "value = 5.112800000000004\n"
     ]
    },
    {
     "data": {
      "image/png": "[encoded data removed]",
      "text/plain": [
       "<Figure size 432x288 with 1 Axes>"
      ]
     },
     "metadata": {
      "needs_background": "light"
     },
     "output_type": "display_data"
    }
   ],
   "source": [
    "import matplotlib.pyplot as plt\n",
    "\n",
    "def Q(x, y, z):\n",
    "    return (x**2 + y**2 + z**2)\n",
    "\n",
    "x = np.linspace(0, 2,  101)\n",
    "q = Q(x, y=(10*x - 14), z=(21*x - 25))\n",
    "\n",
    "xq = dict(zip(x, q))\n",
    "minx = min(xq, key=xq.get)\n",
    "minval = min(xq.values())\n",
    "\n",
    "print(f\"min:\", \n",
    "      f\"x = {minx}\", \n",
    "      f\"value = {minval}\", \n",
    "      sep=\"\\n\")\n",
    "\n",
    "plt.plot(x, q)\n",
    "plt.scatter(minx, minval)\n",
    "plt.grid()"
   ]
  },
  {
   "cell_type": "markdown",
   "id": "0d99888b",
   "metadata": {},
   "source": [
    "$\\begin{bmatrix}\n",
    "1 &  2 & -1\\\\\n",
    "1 & -5 &  2\n",
    "\\end{bmatrix} \\cdot X = \\begin{bmatrix}\n",
    "1 \\\\ \n",
    "12\\end{bmatrix}$"
   ]
  },
  {
   "cell_type": "code",
   "execution_count": 10,
   "id": "e0a4b0ae",
   "metadata": {},
   "outputs": [
    {
     "data": {
      "text/plain": [
       "(array([ 4.15254237, -1.54237288,  0.06779661]),\n",
       " array([], dtype=float64),\n",
       " 2,\n",
       " array([5.85481175, 1.31193727]))"
      ]
     },
     "execution_count": 10,
     "metadata": {},
     "output_type": "execute_result"
    }
   ],
   "source": [
    "A = np.array([[1,  2, -1],\n",
    "              [1, -5,  2]])\n",
    "\n",
    "B = np.array([1, 12])\n",
    "\n",
    "np.linalg.lstsq(A, B, rcond=-1)"
   ]
  },
  {
   "cell_type": "markdown",
   "id": "59463d00",
   "metadata": {},
   "source": [
    "# 6. Найдите одно из псевдорешений вырожденной системы:\n",
    "\n",
    "# $\\begin{bmatrix}\n",
    "1 & 2 & 3\\\\\n",
    "4 & 5 & 6\\\\\n",
    "7 & 8 & 9\n",
    "\\end{bmatrix} \\cdot X = \\begin{bmatrix}\n",
    "2\\\\\n",
    "5\\\\\n",
    "11\n",
    "\\end{bmatrix}$"
   ]
  },
  {
   "cell_type": "code",
   "execution_count": 11,
   "id": "dc516ba3",
   "metadata": {},
   "outputs": [
    {
     "name": "stdout",
     "output_type": "stream",
     "text": [
      "[[1 2 3]\n",
      " [4 5 6]\n",
      " [7 8 9]]\n",
      "[[-0.12309149  0.90453403  0.40824829]\n",
      " [-0.49236596  0.30151134 -0.81649658]\n",
      " [-0.86164044 -0.30151134  0.40824829]]\n",
      "[[-8.12403840e+00 -9.60113630e+00 -1.10782342e+01]\n",
      " [ 0.00000000e+00  9.04534034e-01  1.80906807e+00]\n",
      " [ 0.00000000e+00  0.00000000e+00 -7.58790979e-16]]\n"
     ]
    }
   ],
   "source": [
    "A = np.array([[1, 2, 3], \n",
    "              [4, 5, 6],\n",
    "              [7, 8, 9]])\n",
    "\n",
    "B = np.array([2, 5, 11])\n",
    "\n",
    "Q, R = np.linalg.qr(A)\n",
    "\n",
    "print(A)\n",
    "print(Q)\n",
    "print(R)"
   ]
  },
  {
   "cell_type": "code",
   "execution_count": 12,
   "id": "6e4658f0",
   "metadata": {},
   "outputs": [
    {
     "name": "stdout",
     "output_type": "stream",
     "text": [
      "[[-8.1240384  -9.6011363 ]\n",
      " [ 0.          0.90453403]]\n",
      "[-1.21860576e+01  3.33066907e-15]\n",
      "[1.50000000e+00 3.68219321e-15]\n"
     ]
    }
   ],
   "source": [
    "R1 = R[:2, :2]\n",
    "B1 = Q.T.dot(B)[:2]\n",
    "X1 = np.linalg.solve(R1, B1)\n",
    "\n",
    "print(R1)\n",
    "print(B1)\n",
    "print(X1)"
   ]
  },
  {
   "cell_type": "code",
   "execution_count": 13,
   "id": "67b9a073",
   "metadata": {},
   "outputs": [
    {
     "name": "stdout",
     "output_type": "stream",
     "text": [
      "[1.50000000e+00 3.68219321e-15 0.00000000e+00]\n"
     ]
    },
    {
     "data": {
      "text/plain": [
       "1.499999999999996"
      ]
     },
     "execution_count": 13,
     "metadata": {},
     "output_type": "execute_result"
    }
   ],
   "source": [
    "X = np.append(X1, 0)\n",
    "print(X)\n",
    "np.linalg.norm(X)"
   ]
  },
  {
   "cell_type": "markdown",
   "id": "4578cb57",
   "metadata": {},
   "source": [
    "# Попробуйте также отыскать и нормальное псевдорешение."
   ]
  },
  {
   "cell_type": "code",
   "execution_count": 14,
   "id": "8ad0788e",
   "metadata": {},
   "outputs": [
    {
     "data": {
      "text/plain": [
       "(array([ 1.25,  0.5 , -0.25]),\n",
       " array([], dtype=float64),\n",
       " 2,\n",
       " array([1.68481034e+01, 1.06836951e+00, 3.33475287e-16]))"
      ]
     },
     "execution_count": 14,
     "metadata": {},
     "output_type": "execute_result"
    }
   ],
   "source": [
    "np.linalg.lstsq(A, B, rcond=-1)"
   ]
  }
 ],
 "metadata": {
  "kernelspec": {
   "display_name": "Python 3",
   "language": "python",
   "name": "python3"
  },
  "language_info": {
   "codemirror_mode": {
    "name": "ipython",
    "version": 3
   },
   "file_extension": ".py",
   "mimetype": "text/x-python",
   "name": "python",
   "nbconvert_exporter": "python",
   "pygments_lexer": "ipython3",
   "version": "3.8.8"
  }
 },
 "nbformat": 4,
 "nbformat_minor": 5
}
