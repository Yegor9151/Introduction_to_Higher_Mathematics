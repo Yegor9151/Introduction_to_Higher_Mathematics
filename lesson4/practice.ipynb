{
 "cells": [
  {
   "cell_type": "markdown",
   "id": "7b44bfd3",
   "metadata": {},
   "source": [
    "# 1. Задание (на листочке)\n",
    "\n",
    "Решите уравнение<br>\n",
    "$\\cfrac{sin(x)}{x}=0$"
   ]
  },
  {
   "cell_type": "markdown",
   "id": "3bd18100",
   "metadata": {},
   "source": [
    "__Ответ:__\n",
    "\n",
    "ОДЗ: $x \\neq 0$\n",
    "\n",
    "$x = \\pi$"
   ]
  },
  {
   "cell_type": "markdown",
   "id": "147ba3d9",
   "metadata": {},
   "source": [
    "# 2. Задание (на листочке)\n",
    "\n",
    "Даны три прямые: \n",
    "$\n",
    "y=k1 \\cdot x+b1\\\\\n",
    "y=k2 \\cdot x+b2\\\\ \n",
    "y=k3 \\cdot x+b3\n",
    "$\n",
    "Как узнать, пересекаются они в одной точке или нет?"
   ]
  },
  {
   "cell_type": "markdown",
   "id": "1fcbf7a1",
   "metadata": {},
   "source": [
    "__Ответ:__ Через уравнение пучка прямых"
   ]
  },
  {
   "cell_type": "markdown",
   "id": "bca32ec5",
   "metadata": {},
   "source": [
    "# 3. Задание (в программе или на листочке)\n",
    "\n",
    "На листе тетради «в линейку» (расстояние между линиями равно а) лежит игла (длиной b). Координаты нижней точки иглы (х,у), игла лежит под углом $\\alpha$. Пересекает ли игла линию или нет?"
   ]
  },
  {
   "cell_type": "markdown",
   "id": "97181474",
   "metadata": {},
   "source": [
    "__Пусть:__<br>\n",
    "а1 - растояние между строками\n",
    "\n",
    "b2 - длина иголки = гипотенуза = R<br>\n",
    "а2 - катет"
   ]
  },
  {
   "cell_type": "markdown",
   "id": "8084e079",
   "metadata": {},
   "source": [
    "__Ответ:__<br>\n",
    "$a2 = b2 \\cdot \\sin{\\alpha}$\n",
    "\n",
    "Если $a2 \\geq a1$ - пересекает"
   ]
  },
  {
   "cell_type": "code",
   "execution_count": null,
   "id": "e01f5ab3",
   "metadata": {},
   "outputs": [],
   "source": []
  }
 ],
 "metadata": {
  "kernelspec": {
   "display_name": "Python 3",
   "language": "python",
   "name": "python3"
  },
  "language_info": {
   "codemirror_mode": {
    "name": "ipython",
    "version": 3
   },
   "file_extension": ".py",
   "mimetype": "text/x-python",
   "name": "python",
   "nbconvert_exporter": "python",
   "pygments_lexer": "ipython3",
   "version": "3.8.8"
  }
 },
 "nbformat": 4,
 "nbformat_minor": 5
}
