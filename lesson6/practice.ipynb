{
 "cells": [
  {
   "cell_type": "markdown",
   "id": "a8d1a301",
   "metadata": {},
   "source": [
    "# 1. Задание (теорема сложения). Найти вероятность выпадения 2 или 5 очков при подбрасывании игральной кости, на гранях которой имеются соответственно 1,2,3,4,5 и 6 очков. "
   ]
  },
  {
   "cell_type": "markdown",
   "id": "66142c42",
   "metadata": {},
   "source": [
    "__Ответ:__<br>\n",
    "1. Эти события не зависимы и не совместны\n",
    "2. У каждой грани вероятность выпадения 1/6, значит вероятность выпадения 2 или 5 равняется 1/6 + 1/6\n",
    "\n",
    "$P(A+B) = 1/6 \\cdot 2 = 2/6 = 1/3 = 0.(3)$"
   ]
  },
  {
   "cell_type": "markdown",
   "id": "d793a4f0",
   "metadata": {},
   "source": [
    "# 2. Задание (теорема умножения). Найти вероятность того, что при двух подбрасываниях той же самой игральной кости сначала выпадет 2, а затем 5."
   ]
  },
  {
   "cell_type": "markdown",
   "id": "1d8d1b0e",
   "metadata": {},
   "source": [
    "__Ответ:__<br>\n",
    "1. Эти события зависимы и не совместны\n",
    "2. У каждой грани вероятность выпадения 1/6, значит вероятность выпадения 5 после 2 равняется 1/6 * 1/6\n",
    "\n",
    "$P(AB) = 1/6^2 = 1/36 = 0.02(7)$"
   ]
  },
  {
   "cell_type": "markdown",
   "id": "7eec3c65",
   "metadata": {},
   "source": [
    "# 3. Задание. Найти вероятность выпадения 2 и 5 очков при двух подбрасываниях той же самой игральной кости. Обратите внимание на порядок выпадения костей!"
   ]
  },
  {
   "cell_type": "markdown",
   "id": "b57da615",
   "metadata": {},
   "source": [
    "1. Эти события зависимы и не совместны\n",
    "\n",
    "Че то я не поняимаю, чем эта задача отличается от предыдущей"
   ]
  },
  {
   "cell_type": "markdown",
   "id": "31295089",
   "metadata": {},
   "source": [
    "# 4. Задание  (Геометрическая вероятность +интервалы). На отрезке AB длиной 20 см наугад отметили точку C. Какова вероятность, что она находится на расстоянии не более 9 см от точки А и не более 15 см от точки В?"
   ]
  },
  {
   "cell_type": "code",
   "execution_count": 1,
   "id": "80e739e2",
   "metadata": {},
   "outputs": [
    {
     "data": {
      "image/png": "[encoded data removed]",
      "text/plain": [
       "<Figure size 720x144 with 1 Axes>"
      ]
     },
     "metadata": {
      "needs_background": "light"
     },
     "output_type": "display_data"
    }
   ],
   "source": [
    "import matplotlib.pyplot as plt\n",
    "import numpy as np\n",
    "\n",
    "a = np.linspace(0, 9, 10)\n",
    "b = np.linspace(0, 15, 16) + 5\n",
    "\n",
    "plt.figure(figsize=(10, 2))\n",
    "plt.scatter(a, np.zeros_like(a), alpha=0.5)\n",
    "plt.scatter(b, np.zeros_like(b), alpha=0.5)\n",
    "plt.xticks(np.linspace(0, 20, 21))\n",
    "plt.grid()\n",
    "plt.show()"
   ]
  },
  {
   "cell_type": "markdown",
   "id": "27279827",
   "metadata": {},
   "source": [
    "__Ответ:__\n",
    "\n",
    "AC = x $\\leq$ 9<br>\n",
    "BC = y $\\leq$ 15\n",
    "\n",
    "С могут поставить и в начало координат, это тоже учтем, отнимая и прибавляя 1\n",
    "\n",
    "$\n",
    "|x - y| - 1 = |9 - 15| - 1 = 5\\\\\n",
    "P(|AC - BC|/AB) = \\cfrac{5}{20 + 1} = \\cfrac{5}{21}\n",
    "$"
   ]
  },
  {
   "cell_type": "markdown",
   "id": "2ac842af",
   "metadata": {},
   "source": [
    "# 5. Задание. Телефонный номер состоит из 7 цифр. Какова вероятность, что это номер 8882227?"
   ]
  },
  {
   "cell_type": "markdown",
   "id": "57e2a736",
   "metadata": {},
   "source": [
    "__Ответ:__\n",
    "1. Цифры не зависимы друг от друга, но совместны, так как должны быть набраны по очереди\n",
    "2. Каждая цифра может принимать значения от 0 до 9, значит вероятность для каждой цифри 0.1\n",
    "3. Всего цифр 7, то есть P = $0.1^7$"
   ]
  },
  {
   "cell_type": "markdown",
   "id": "fb76a022",
   "metadata": {},
   "source": [
    "# 6. Задание. Набирая номер телефона, абонент забыл 2 последние цифры, и, помня только то, что эти цифры различны и среди них нет нуля, стал набирать их наудачу."
   ]
  },
  {
   "cell_type": "markdown",
   "id": "075c0b57",
   "metadata": {},
   "source": [
    "__Подготовка:__\n",
    "1. x, y - 2 последние цифры\n",
    "2. x $\\neq$ y, x & y > 0\n",
    "\n",
    "$\n",
    "x = \\cfrac{1}{9}\\\\\n",
    "y = \\cfrac{1}{8}\n",
    "$"
   ]
  },
  {
   "cell_type": "markdown",
   "id": "86775ea9",
   "metadata": {},
   "source": [
    "# Какова вероятность того, что он угадает номер с первого раза?"
   ]
  },
  {
   "cell_type": "markdown",
   "id": "3bcabdfd",
   "metadata": {},
   "source": [
    "__Ответ:__\n",
    "\n",
    "$P = x \\cdot y = \\cfrac{1}{9} \\cdot \\cfrac{1}{8} = 0.013(8)$"
   ]
  },
  {
   "cell_type": "markdown",
   "id": "a47c5c5d",
   "metadata": {},
   "source": [
    "# Сколько вариантов ему надо перебрать, чтобы наверняка найти нужный номер?"
   ]
  },
  {
   "cell_type": "markdown",
   "id": "51300842",
   "metadata": {},
   "source": [
    "__Ответ:__\n",
    "1. Пусть 1 - вероятность того, что событие случилось, тогда\n",
    "\n",
    "$\\cfrac{1}{x \\cdot y} = \\cfrac{1}{P} = \\cfrac{1}{0.013(8)} = 72$ варианта"
   ]
  },
  {
   "cell_type": "markdown",
   "id": "9ec1f723",
   "metadata": {},
   "source": [
    "# Задание** (необязательное)  Чёрный куб покрасили снаружи белой краской, затем разрезали на 27 одинаковых маленьких кубиков и как попало сложили из них большой куб. С какой вероятностью  все грани этого куба будут белыми?"
   ]
  },
  {
   "cell_type": "code",
   "execution_count": null,
   "id": "6c6bdbe8",
   "metadata": {},
   "outputs": [],
   "source": []
  }
 ],
 "metadata": {
  "kernelspec": {
   "display_name": "Python 3",
   "language": "python",
   "name": "python3"
  },
  "language_info": {
   "codemirror_mode": {
    "name": "ipython",
    "version": 3
   },
   "file_extension": ".py",
   "mimetype": "text/x-python",
   "name": "python",
   "nbconvert_exporter": "python",
   "pygments_lexer": "ipython3",
   "version": "3.8.8"
  }
 },
 "nbformat": 4,
 "nbformat_minor": 5
}
