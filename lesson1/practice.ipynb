{
 "cells": [
  {
   "cell_type": "markdown",
   "metadata": {},
   "source": [
    "# task 1\n",
    "\n",
    "$\n",
    "7 \\cdot \\begin{bmatrix}\n",
    "5 & 10 \\\\\n",
    "7 & 12 \\\\\n",
    "11.3 & 5 \\\\\n",
    "25 & 30 \\\\\n",
    "\\end{bmatrix} + 2 \\cdot \\begin{bmatrix}\n",
    "5 & 10 \\\\\n",
    "7 & 12 \\\\\n",
    "11.3 & 5 \\\\\n",
    "25 & 30 \\\\\n",
    "\\end{bmatrix} =\n",
    "$"
   ]
  },
  {
   "cell_type": "markdown",
   "metadata": {},
   "source": [
    "$\n",
    "= \\begin{bmatrix}\n",
    "35 & 70 \\\\\n",
    "49 & 84 \\\\\n",
    "79.1 & 35 \\\\\n",
    "175 & 210 \\\\\n",
    "\\end{bmatrix} + \\begin{bmatrix}\n",
    "10 & 20 \\\\\n",
    "14 & 24 \\\\\n",
    "22.6 & 10 \\\\\n",
    "50 & 60 \\\\\n",
    "\\end{bmatrix} =\n",
    "$"
   ]
  },
  {
   "cell_type": "markdown",
   "metadata": {},
   "source": [
    "$\n",
    "= \\begin{bmatrix}\n",
    "45 & 90 \\\\\n",
    "63 & 108 \\\\\n",
    "101.7 &  45 \\\\\n",
    "225 & 270\n",
    "\\end{bmatrix}\n",
    "$"
   ]
  },
  {
   "cell_type": "markdown",
   "metadata": {},
   "source": [
    "# task 2.1\n",
    "Решите систему уравнений:\n",
    "\n",
    "$\n",
    "\\begin{cases}\n",
    "3x - 2y + 5z = 7 \\\\\n",
    "7x + 4y - 8z = 3 \\\\\n",
    "5x - 3y - 4z = -12\n",
    "\\end{cases}\n",
    "$\n",
    "\n",
    "Линейная или нелинейная это система?<br>\n",
    "А каждое уравнение по отдельности?"
   ]
  },
  {
   "cell_type": "markdown",
   "metadata": {},
   "source": [
    "__Ответ__: линейная система - потому что все уравнение линейные"
   ]
  },
  {
   "cell_type": "markdown",
   "metadata": {},
   "source": [
    "$(3x + 7x + 5x) + (4y - 3y - 2y) + (5z - 8z - 4z) = 7 + 3 - 12$\n",
    "\n",
    "$15x - y - 7z = -2$\n",
    "\n",
    "$y = 2 + 15x - 7z$"
   ]
  },
  {
   "cell_type": "markdown",
   "metadata": {},
   "source": [
    "$\n",
    "\\begin{cases}\n",
    "3x - 2 \\cdot (2 + 15𝑥 − 7𝑧) + 5z = 7 \\\\\n",
    "7x + 4 \\cdot (2 + 15𝑥 − 7𝑧) - 8z = 3 \\\\\n",
    "5x - 3 \\cdot (2 + 15𝑥 − 7𝑧) - 4z = -12\n",
    "\\end{cases}\n",
    "$"
   ]
  },
  {
   "cell_type": "markdown",
   "metadata": {},
   "source": [
    "$\n",
    "\\begin{cases}\n",
    "3x - 30x + 14z + 5z = 7 + 4 \\\\\n",
    "7x + 60x - 28z - 8z = 3 - 8 \\\\\n",
    "5x - 45x + 21z - 4z = -12 + 6\n",
    "\\end{cases}\n",
    "$"
   ]
  },
  {
   "cell_type": "markdown",
   "metadata": {},
   "source": [
    "$\n",
    "\\begin{cases}\n",
    "-27x + 19z = 11\\\\\n",
    "67x - 36z = -5\\\\\n",
    "-40x + 17z = -6\n",
    "\\end{cases}\n",
    "$"
   ]
  },
  {
   "cell_type": "markdown",
   "metadata": {},
   "source": [
    "$(-27x + 67x - 40x) + (19z - 36z + 17z) = 11 - 5 - 6$\n",
    "\n",
    "$0 = 0$"
   ]
  },
  {
   "cell_type": "markdown",
   "metadata": {},
   "source": [
    "# task 2.2\n",
    "\n",
    "$\n",
    "\\begin{cases}\n",
    "x^2 + y \\cdot x - 9 = 0 \\\\\n",
    "x - \\cfrac{y}{5} = 0\n",
    "\\end{cases}\n",
    "$\n",
    "\n",
    "Линейная или нелинейная это система?<br>\n",
    "А каждое уравнение по отдельности?"
   ]
  },
  {
   "cell_type": "markdown",
   "metadata": {},
   "source": [
    "__Ответ__: Система не линейная, так как 1е уравнение имеет квадрат"
   ]
  },
  {
   "cell_type": "markdown",
   "metadata": {},
   "source": [
    "$\n",
    "\\begin{cases}\n",
    "x^2 + y \\cdot x - 9 = 0 \\\\\n",
    "x - \\cfrac{y}{5} = 0\n",
    "\\end{cases}\n",
    "\\begin{cases}\n",
    "x^2 + yx = 9 \\\\\n",
    "y = 5x\n",
    "\\end{cases}\n",
    "$"
   ]
  },
  {
   "cell_type": "markdown",
   "metadata": {},
   "source": [
    "$x^2 + 5x^2 - 9 = 0$\n",
    "\n",
    "$6x^2 = 9$\n",
    "\n",
    "$x^2 = 1,5$"
   ]
  },
  {
   "cell_type": "markdown",
   "metadata": {},
   "source": [
    "$x = \\sqrt{1,5}$\n",
    "\n",
    "$y = 5\\sqrt{1,5}$"
   ]
  },
  {
   "cell_type": "markdown",
   "metadata": {},
   "source": [
    "# task 3\n",
    "\n",
    "Решите задачу:<br>\n",
    "Площадь пола прямоугольной комнаты равна 48 м2,а его периметр равен 28 м. Найдите длину и ширину комнаты."
   ]
  },
  {
   "cell_type": "markdown",
   "metadata": {},
   "source": [
    "$\n",
    "\\begin{cases}\n",
    "x \\cdot y = 48 \\\\\n",
    "2x + 2y = 28\n",
    "\\end{cases}\\Rightarrow\n",
    "\\begin{cases}\n",
    "x \\cdot y = 48 \\\\\n",
    "x + y = 14\n",
    "\\end{cases}\\Rightarrow\n",
    "\\begin{cases}\n",
    "x \\cdot y = 48 \\\\\n",
    "y = 14 - x\n",
    "\\end{cases} \n",
    "$"
   ]
  },
  {
   "cell_type": "markdown",
   "metadata": {},
   "source": [
    "$x \\cdot y = 48$\n",
    "\n",
    "$x \\cdot (14 - x) = 48$\n",
    "\n",
    "$14x - x^2 - 48 = 0$\n",
    "\n",
    "$x^2 - 14x + 48 = 0$\n",
    "\n",
    "$a = 1; b = -14; c = 48;$"
   ]
  },
  {
   "cell_type": "markdown",
   "metadata": {},
   "source": [
    "$\n",
    "D = -14^2 - 4 \\cdot 48 = 196 - 192 = 4\n",
    "$"
   ]
  },
  {
   "cell_type": "markdown",
   "metadata": {},
   "source": [
    "$x_1 = \\cfrac{14 + 2}{2} = 8$\n",
    "\n",
    "$y_1 = 14 - 8 = 6$"
   ]
  },
  {
   "cell_type": "markdown",
   "metadata": {},
   "source": [
    "$x_2 = \\cfrac{14 - 2}{2} = 6$\n",
    "\n",
    "$y_2 = 14 - 6 = 8$"
   ]
  },
  {
   "cell_type": "markdown",
   "metadata": {},
   "source": [
    "__Ответ__: длинна = 8, ширина = 6"
   ]
  },
  {
   "cell_type": "markdown",
   "metadata": {},
   "source": [
    "# task 4\n",
    "\n",
    "Постройте на одном графике две кривые y(x) для функции двух переменных y(k,x)=cos(k∙x), взяв для одной кривой значение k=1, а для другой – любое другое k, не равное 1."
   ]
  },
  {
   "cell_type": "code",
   "execution_count": 1,
   "metadata": {},
   "outputs": [],
   "source": [
    "import numpy as np\n",
    "import matplotlib.pyplot as plt"
   ]
  },
  {
   "cell_type": "code",
   "execution_count": 2,
   "metadata": {},
   "outputs": [],
   "source": [
    "def func(k, x):\n",
    "    return np.cos(k * x)"
   ]
  },
  {
   "cell_type": "code",
   "execution_count": 3,
   "metadata": {},
   "outputs": [],
   "source": [
    "x = np.arange(0, 20, 0.1)\n",
    "\n",
    "k1 = 1\n",
    "y1 = func(k1, x)\n",
    "\n",
    "k2 = 2\n",
    "y2 = func(k2, x)"
   ]
  },
  {
   "cell_type": "code",
   "execution_count": 4,
   "metadata": {},
   "outputs": [
    {
     "data": {
      "text/plain": [
       "[<matplotlib.lines.Line2D at 0x14f40646b80>]"
      ]
     },
     "execution_count": 4,
     "metadata": {},
     "output_type": "execute_result"
    },
    {
     "data": {
      "image/png": "[encoded data removed]",
      "text/plain": [
       "<Figure size 1152x288 with 1 Axes>"
      ]
     },
     "metadata": {
      "needs_background": "light"
     },
     "output_type": "display_data"
    }
   ],
   "source": [
    "plt.figure(figsize=(16, 4))\n",
    "plt.plot(x, y1)\n",
    "plt.plot(x, y2)"
   ]
  }
 ],
 "metadata": {
  "interpreter": {
   "hash": "b89b5cfaba6639976dc87ff2fec6d58faec662063367e2c229c520fe71072417"
  },
  "kernelspec": {
   "display_name": "Python 3",
   "language": "python",
   "name": "python3"
  },
  "language_info": {
   "codemirror_mode": {
    "name": "ipython",
    "version": 3
   },
   "file_extension": ".py",
   "mimetype": "text/x-python",
   "name": "python",
   "nbconvert_exporter": "python",
   "pygments_lexer": "ipython3",
   "version": "3.8.8"
  }
 },
 "nbformat": 4,
 "nbformat_minor": 2
}
