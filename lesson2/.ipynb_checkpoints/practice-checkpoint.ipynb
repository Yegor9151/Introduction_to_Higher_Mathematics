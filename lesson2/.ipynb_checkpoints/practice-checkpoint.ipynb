{
 "cells": [
  {
   "cell_type": "markdown",
   "id": "1d383b72",
   "metadata": {},
   "source": [
    "# 1. Задание \n",
    "Напишите уравнение параболы, проходящей через три точки (x,y):\n",
    "(1,2), (3,10), (5,1)"
   ]
  },
  {
   "cell_type": "markdown",
   "id": "c188d3c9",
   "metadata": {},
   "source": [
    "__Ответ__:\n",
    "$-2 \\cdot (x-3)^2 + 10$"
   ]
  },
  {
   "cell_type": "code",
   "execution_count": 1,
   "id": "cd325fe6",
   "metadata": {},
   "outputs": [],
   "source": [
    "def parabola(x):\n",
    "    return -2 * (x - 3)**2 + 10"
   ]
  },
  {
   "cell_type": "code",
   "execution_count": 2,
   "id": "34ba52a9",
   "metadata": {},
   "outputs": [
    {
     "name": "stdout",
     "output_type": "stream",
     "text": [
      "Dots [x, y]:\n",
      "[[ 1  2]\n",
      " [ 2  8]\n",
      " [ 3 10]\n",
      " [ 4  8]\n",
      " [ 5  2]]\n"
     ]
    }
   ],
   "source": [
    "import numpy as np\n",
    "import matplotlib.pyplot as plt\n",
    "\n",
    "dotX = np.arange(1, 6)\n",
    "dotY = parabola(dotX)\n",
    "\n",
    "lineX = np.arange(0.5, 5.6, 0.1)\n",
    "lineY = parabola(lineX)\n",
    "\n",
    "dots_XY = np.concatenate([dotX[None], dotY[None]], axis=0).T\n",
    "\n",
    "print('Dots [x, y]:')\n",
    "print(dots_XY)"
   ]
  },
  {
   "cell_type": "code",
   "execution_count": 3,
   "id": "b46dd0c5",
   "metadata": {},
   "outputs": [
    {
     "data": {
      "image/png": "[encoded data removed]",
      "text/plain": [
       "<Figure size 432x432 with 1 Axes>"
      ]
     },
     "metadata": {
      "needs_background": "light"
     },
     "output_type": "display_data"
    }
   ],
   "source": [
    "plt.figure(figsize=(6, 6))\n",
    "\n",
    "plt.plot(lineX, lineY, c='r')\n",
    "plt.scatter(dotX, dotY, c='b')\n",
    "\n",
    "plt.yticks(np.arange(-3, 11))\n",
    "plt.xticks(np.arange(0, 7))\n",
    "plt.grid()"
   ]
  },
  {
   "cell_type": "markdown",
   "id": "c5a3c7e6",
   "metadata": {},
   "source": [
    "Не знаю как сделать, что бы парабола прошла через (5,1)"
   ]
  },
  {
   "cell_type": "markdown",
   "id": "f0561a2c",
   "metadata": {},
   "source": [
    "# 2. Задание \n",
    "Известно, что свежий огурец на 99% состоит из воды. Месяц назад взвесили мешок со свежими огурцами. Получилось, что мешок весил ровно 100 кг. Мешок убрали, а через месяц снова взвесили. Огурцы за это время усохли, и теперь вода составляет уже только 98% их веса. Сколько теперь (в кг) весят огурцы?"
   ]
  },
  {
   "cell_type": "markdown",
   "id": "b2da53c9",
   "metadata": {},
   "source": [
    "__Свежие огурци:__\n",
    "\n",
    "__Общий вес__ = 100кг = 100%<br>\n",
    "__В 1%__ = 100кг / 100% = 1кг <br>\n",
    "__Вес воды__ = 1кг * 99% = 99кг <br>\n",
    "__Вес примесей__ = 1кг * 1% = 1кг"
   ]
  },
  {
   "cell_type": "markdown",
   "id": "4402de62",
   "metadata": {},
   "source": [
    "__Спустя месяц:__\n",
    "\n",
    "__Общий вес__ = _x_ кг = 100% <br>\n",
    "__В 1%__ = _x_ кг / 100% = _y_ кг <br>\n",
    "__Вес воды__ = _y_ кг * 98% = _z_ кг <br>\n",
    "__Вес примесей__ = _y_ кг * (100% - 98%) = 1 кг"
   ]
  },
  {
   "cell_type": "markdown",
   "id": "2436b971",
   "metadata": {},
   "source": [
    "$\n",
    "\\begin{cases}\n",
    "x / 100 = y\\\\\n",
    "y \\cdot 2 = 1\n",
    "\\end{cases}\n",
    "$"
   ]
  },
  {
   "cell_type": "markdown",
   "id": "620a5a84",
   "metadata": {},
   "source": [
    "$\n",
    "\\begin{cases}\n",
    "x/100 = y\\\\\n",
    "y = 1/2 = 0.5\n",
    "\\end{cases}\n",
    "$"
   ]
  },
  {
   "cell_type": "markdown",
   "id": "4e4fb218",
   "metadata": {},
   "source": [
    "$\n",
    "\\begin{cases}\n",
    "x = 0.5 \\cdot 100 = 50\\\\\n",
    "y = 0.5\n",
    "\\end{cases}\n",
    "$"
   ]
  },
  {
   "cell_type": "markdown",
   "id": "fa0a3842",
   "metadata": {},
   "source": [
    "__Ответ:__ вес огурцов = 50кг"
   ]
  },
  {
   "cell_type": "markdown",
   "id": "548688f1",
   "metadata": {},
   "source": [
    "# 3. Задание. \n",
    "Определение логарифма. Решить уравнения:"
   ]
  },
  {
   "cell_type": "markdown",
   "id": "73ea3924",
   "metadata": {},
   "source": [
    "## 1. $2^x = 256$"
   ]
  },
  {
   "cell_type": "markdown",
   "id": "846c6fb3",
   "metadata": {},
   "source": [
    "$x = \\log_2{256} = 8$"
   ]
  },
  {
   "cell_type": "markdown",
   "id": "b97ca8fc",
   "metadata": {},
   "source": [
    "## 2. $2^x = 300$"
   ]
  },
  {
   "cell_type": "markdown",
   "id": "405547f8",
   "metadata": {},
   "source": [
    "$x = \\log_2{300}$"
   ]
  },
  {
   "cell_type": "markdown",
   "id": "da62bf6e",
   "metadata": {},
   "source": [
    "## 3.* $log_8{2^{8x-4}} = 4$"
   ]
  },
  {
   "cell_type": "markdown",
   "id": "5bc250c6",
   "metadata": {},
   "source": [
    "$2^{8x-4} = 8^4 = 2^{12}$"
   ]
  },
  {
   "cell_type": "markdown",
   "id": "26ab53a9",
   "metadata": {},
   "source": [
    "$8x - 4 = 12$"
   ]
  },
  {
   "cell_type": "markdown",
   "id": "fe9a00d2",
   "metadata": {},
   "source": [
    "$8x = 12 + 4 = 16$"
   ]
  },
  {
   "cell_type": "markdown",
   "id": "b964741a",
   "metadata": {},
   "source": [
    "$x = 2$"
   ]
  },
  {
   "cell_type": "markdown",
   "id": "92a79e40",
   "metadata": {},
   "source": [
    "## 4.* $3^{log_9{5x - 5}} = 5$"
   ]
  },
  {
   "cell_type": "markdown",
   "id": "6a349c01",
   "metadata": {},
   "source": [
    "$(5x - 5)^{log_9{3}} = 5$"
   ]
  },
  {
   "cell_type": "markdown",
   "id": "a69f7b28",
   "metadata": {},
   "source": [
    "$(5x - 5)^{0,5} = 5$"
   ]
  },
  {
   "cell_type": "markdown",
   "id": "308a73cb",
   "metadata": {},
   "source": [
    "$\\sqrt{5x - 5} = 5$"
   ]
  },
  {
   "cell_type": "markdown",
   "id": "93a4a756",
   "metadata": {},
   "source": [
    "$5x - 5 = 25$"
   ]
  },
  {
   "cell_type": "markdown",
   "id": "d9768643",
   "metadata": {},
   "source": [
    "$5x = 5 + 25 = 30$"
   ]
  },
  {
   "cell_type": "markdown",
   "id": "5b5b31b3",
   "metadata": {},
   "source": [
    "$x = 30 / 5 = 6$"
   ]
  },
  {
   "cell_type": "markdown",
   "id": "713e9464",
   "metadata": {},
   "source": [
    "## 5. $x^{log_3{x}+1} = 9$"
   ]
  },
  {
   "cell_type": "markdown",
   "id": "7740b59d",
   "metadata": {},
   "source": [
    "$\n",
    "ОДЗ:\\\\\n",
    "x > 0 \\\\\n",
    "x \\neq 1\n",
    "$"
   ]
  },
  {
   "cell_type": "markdown",
   "id": "9e8914ea",
   "metadata": {},
   "source": [
    "$log_3 x^{log_3 x+1} = log_{3}9$"
   ]
  },
  {
   "cell_type": "markdown",
   "id": "0f6cab2b",
   "metadata": {},
   "source": [
    "$(log_3 x + 1) \\cdot log_3 x = 2$"
   ]
  },
  {
   "cell_type": "markdown",
   "id": "2a951886",
   "metadata": {},
   "source": [
    "$t = log_3 x$"
   ]
  },
  {
   "cell_type": "markdown",
   "id": "c40faa5a",
   "metadata": {},
   "source": [
    "$(t + 1) \\cdot t = 2$"
   ]
  },
  {
   "cell_type": "markdown",
   "id": "74771971",
   "metadata": {},
   "source": [
    "$\n",
    "t^2 + t - 2 = 0 \\\\\n",
    "a = 1; b = 1; c = -2\\\\\n",
    "D = 1 + 4 \\cdot 2 = 9\n",
    "$"
   ]
  },
  {
   "cell_type": "markdown",
   "id": "2dc2704e",
   "metadata": {},
   "source": [
    "$\n",
    "t_1 = \\cfrac{-1 + 3}{2} = 1\\\\\n",
    "t_2 = \\cfrac{-1 - 3}{2} = -2\n",
    "$"
   ]
  },
  {
   "cell_type": "markdown",
   "id": "db9740be",
   "metadata": {},
   "source": [
    "$log_3 x = 1; log_3 x = -2$"
   ]
  },
  {
   "cell_type": "markdown",
   "id": "8252d789",
   "metadata": {},
   "source": [
    "$\n",
    "x_1^{1+1} = 9\\\\\n",
    "x_1 = 3\n",
    "$"
   ]
  },
  {
   "cell_type": "markdown",
   "id": "8aff40f7",
   "metadata": {},
   "source": [
    "$\n",
    "x_2^{-2+1} = 9\\\\\n",
    "\\cfrac{1}{x_2} = 9 \\\\\n",
    "x_2 = \\cfrac{1}{9}\n",
    "$"
   ]
  },
  {
   "cell_type": "markdown",
   "id": "00a1f071",
   "metadata": {},
   "source": [
    "# 4. Задание Свойства логарифмов. Вычислить:"
   ]
  },
  {
   "cell_type": "markdown",
   "id": "dab7a9a2",
   "metadata": {},
   "source": [
    "## 6. $log_4 16 = 2$"
   ]
  },
  {
   "cell_type": "markdown",
   "id": "e8ac136c",
   "metadata": {},
   "source": [
    "## 7. $log_5 \\cfrac{1}{25} = -2$"
   ]
  },
  {
   "cell_type": "markdown",
   "id": "46062a4d",
   "metadata": {},
   "source": [
    "## 8. $log_{25} 5 = \\cfrac{1}{2} = 0,5$"
   ]
  },
  {
   "cell_type": "markdown",
   "id": "b75c2af6",
   "metadata": {},
   "source": [
    "## 9. $log_3 \\sqrt{27} = \\cfrac{3}{2} = 1,5$"
   ]
  },
  {
   "cell_type": "markdown",
   "id": "3fefee16",
   "metadata": {},
   "source": [
    "## 10. $log_2 12 - log_2 3 = log_2 \\cfrac{12}{3} = log_2 4 = 2$"
   ]
  },
  {
   "cell_type": "markdown",
   "id": "8d377195",
   "metadata": {},
   "source": [
    "## 11. $log_6 12 + log_6 3 = log_6 36 = 2$"
   ]
  },
  {
   "cell_type": "markdown",
   "id": "1c8b0f46",
   "metadata": {},
   "source": [
    "## 12. $e^{ln5} = 5$"
   ]
  },
  {
   "cell_type": "markdown",
   "id": "79c52caf",
   "metadata": {},
   "source": [
    "## 13. $\\cfrac{log_2 225}{log_2 15} = log_{15} 225 = 2$"
   ]
  },
  {
   "cell_type": "markdown",
   "id": "9eaf0940",
   "metadata": {},
   "source": [
    "## 14. $log_4 32 + log_{0.1} 10 = \\cfrac{log_2 32}{log_2 4} - 1 = \\cfrac{5}{2} - 1 = 2,5 - 1 = 1,5$"
   ]
  },
  {
   "cell_type": "markdown",
   "id": "f2a0f6cc",
   "metadata": {},
   "source": [
    "## 15.* $9^{log_3 \\sqrt{5}} = \\sqrt{5}^{log_3 9} = \\sqrt{5}^2 = 5$"
   ]
  }
 ],
 "metadata": {
  "kernelspec": {
   "display_name": "Python 3",
   "language": "python",
   "name": "python3"
  },
  "language_info": {
   "codemirror_mode": {
    "name": "ipython",
    "version": 3
   },
   "file_extension": ".py",
   "mimetype": "text/x-python",
   "name": "python",
   "nbconvert_exporter": "python",
   "pygments_lexer": "ipython3",
   "version": "3.8.8"
  }
 },
 "nbformat": 4,
 "nbformat_minor": 5
}
